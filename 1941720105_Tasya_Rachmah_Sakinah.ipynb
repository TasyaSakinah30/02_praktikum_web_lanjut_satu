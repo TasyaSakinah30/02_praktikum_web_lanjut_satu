{
  "nbformat": 4,
  "nbformat_minor": 0,
  "metadata": {
    "colab": {
      "name": "1941720105_Tasya Rachmah Sakinah.ipynb",
      "provenance": [],
      "authorship_tag": "ABX9TyPnGohBrAx25RDMy1ZHZrMY",
      "include_colab_link": true
    },
    "kernelspec": {
      "name": "python3",
      "display_name": "Python 3"
    },
    "language_info": {
      "name": "python"
    }
  },
  "cells": [
    {
      "cell_type": "markdown",
      "metadata": {
        "id": "view-in-github",
        "colab_type": "text"
      },
      "source": [
        "<a href=\"https://colab.research.google.com/github/TasyaSakinah30/02_praktikum_web_lanjut_satu/blob/master/1941720105_Tasya_Rachmah_Sakinah.ipynb\" target=\"_parent\"><img src=\"https://colab.research.google.com/assets/colab-badge.svg\" alt=\"Open In Colab\"/></a>"
      ]
    },
    {
      "cell_type": "code",
      "execution_count": null,
      "metadata": {
        "id": "Xk8-K7ml9Tss"
      },
      "outputs": [],
      "source": [
        ""
      ]
    }
  ]
}